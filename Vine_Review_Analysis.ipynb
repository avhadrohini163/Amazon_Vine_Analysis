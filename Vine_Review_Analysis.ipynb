{
  "nbformat": 4,
  "nbformat_minor": 0,
  "metadata": {
    "colab": {
      "name": "Vine_Review_Analysis.ipynb",
      "provenance": [],
      "collapsed_sections": [],
      "authorship_tag": "ABX9TyPNEdW4UVhtcF2T6bn8ZrV2",
      "include_colab_link": true
    },
    "kernelspec": {
      "name": "python3",
      "display_name": "Python 3"
    },
    "language_info": {
      "name": "python"
    }
  },
  "cells": [
    {
      "cell_type": "markdown",
      "metadata": {
        "id": "view-in-github",
        "colab_type": "text"
      },
      "source": [
        "<a href=\"https://colab.research.google.com/github/avhadrohini163/Amazon_Vine_Analysis/blob/main/Vine_Review_Analysis.ipynb\" target=\"_parent\"><img src=\"https://colab.research.google.com/assets/colab-badge.svg\" alt=\"Open In Colab\"/></a>"
      ]
    },
    {
      "cell_type": "code",
      "execution_count": null,
      "metadata": {
        "colab": {
          "base_uri": "https://localhost:8080/"
        },
        "id": "Pon-jRbwrf4N",
        "outputId": "a4382c45-55a9-47c0-f365-f64dababdafb"
      },
      "outputs": [
        {
          "output_type": "stream",
          "name": "stdout",
          "text": [
            "\r0% [Working]\r            \rIgn:1 https://developer.download.nvidia.com/compute/cuda/repos/ubuntu1804/x86_64  InRelease\n",
            "\r0% [Connecting to archive.ubuntu.com] [Connecting to security.ubuntu.com] [Conn\r                                                                               \rIgn:2 https://developer.download.nvidia.com/compute/machine-learning/repos/ubuntu1804/x86_64  InRelease\n",
            "\r0% [Connecting to archive.ubuntu.com] [Connecting to security.ubuntu.com (91.18\r                                                                               \rGet:3 https://cloud.r-project.org/bin/linux/ubuntu bionic-cran40/ InRelease [3,626 B]\n",
            "\r0% [Connecting to archive.ubuntu.com] [Connecting to security.ubuntu.com (91.18\r0% [Connecting to archive.ubuntu.com] [Connecting to security.ubuntu.com (91.18\r                                                                               \rGet:4 https://developer.download.nvidia.com/compute/cuda/repos/ubuntu1804/x86_64  Release [696 B]\n",
            "\r0% [Connecting to archive.ubuntu.com] [Connecting to security.ubuntu.com (91.18\r0% [3 InRelease gpgv 3,626 B] [Connecting to archive.ubuntu.com] [Connecting to\r                                                                               \rHit:5 https://developer.download.nvidia.com/compute/machine-learning/repos/ubuntu1804/x86_64  Release\n",
            "Get:6 https://developer.download.nvidia.com/compute/cuda/repos/ubuntu1804/x86_64  Release.gpg [836 B]\n",
            "Get:7 http://security.ubuntu.com/ubuntu bionic-security InRelease [88.7 kB]\n",
            "Get:8 http://ppa.launchpad.net/c2d4u.team/c2d4u4.0+/ubuntu bionic InRelease [15.9 kB]\n",
            "Hit:9 http://archive.ubuntu.com/ubuntu bionic InRelease\n",
            "Get:10 http://archive.ubuntu.com/ubuntu bionic-updates InRelease [88.7 kB]\n",
            "Hit:11 http://ppa.launchpad.net/cran/libgit2/ubuntu bionic InRelease\n",
            "Hit:13 http://ppa.launchpad.net/deadsnakes/ppa/ubuntu bionic InRelease\n",
            "Get:14 http://archive.ubuntu.com/ubuntu bionic-backports InRelease [74.6 kB]\n",
            "Get:15 https://developer.download.nvidia.com/compute/cuda/repos/ubuntu1804/x86_64  Packages [930 kB]\n",
            "Get:16 http://ppa.launchpad.net/graphics-drivers/ppa/ubuntu bionic InRelease [21.3 kB]\n",
            "Get:17 http://ppa.launchpad.net/c2d4u.team/c2d4u4.0+/ubuntu bionic/main Sources [1,827 kB]\n",
            "Get:18 http://security.ubuntu.com/ubuntu bionic-security/restricted amd64 Packages [806 kB]\n",
            "Get:19 http://security.ubuntu.com/ubuntu bionic-security/universe amd64 Packages [1,474 kB]\n",
            "Get:20 http://security.ubuntu.com/ubuntu bionic-security/main amd64 Packages [2,596 kB]\n",
            "Get:21 http://ppa.launchpad.net/c2d4u.team/c2d4u4.0+/ubuntu bionic/main amd64 Packages [937 kB]\n",
            "Get:22 http://archive.ubuntu.com/ubuntu bionic-updates/restricted amd64 Packages [840 kB]\n",
            "Get:23 http://archive.ubuntu.com/ubuntu bionic-updates/main amd64 Packages [3,035 kB]\n",
            "Get:24 http://ppa.launchpad.net/graphics-drivers/ppa/ubuntu bionic/main amd64 Packages [42.8 kB]\n",
            "Get:25 http://archive.ubuntu.com/ubuntu bionic-updates/universe amd64 Packages [2,252 kB]\n",
            "Fetched 15.0 MB in 6s (2,538 kB/s)\n",
            "Reading package lists... Done\n"
          ]
        }
      ],
      "source": [
        "import os\n",
        "# Find the latest version of spark 3.0 from http://www.apache.org/dist/spark/ and enter as the spark version\n",
        "# For example:\n",
        "# spark_version = 'spark-3.0.3'\n",
        "spark_version = 'spark-3.0.3'\n",
        "os.environ['SPARK_VERSION']=spark_version\n",
        "\n",
        "# Install Spark and Java\n",
        "!apt-get update\n",
        "!apt-get install openjdk-11-jdk-headless -qq > /dev/null\n",
        "!wget -q http://www.apache.org/dist/spark/$SPARK_VERSION/$SPARK_VERSION-bin-hadoop2.7.tgz\n",
        "!tar xf $SPARK_VERSION-bin-hadoop2.7.tgz\n",
        "!pip install -q findspark\n",
        "\n",
        "# Set Environment Variables\n",
        "import os\n",
        "os.environ[\"JAVA_HOME\"] = \"/usr/lib/jvm/java-11-openjdk-amd64\"\n",
        "os.environ[\"SPARK_HOME\"] = f\"/content/{spark_version}-bin-hadoop2.7\"\n",
        "\n",
        "# Start a SparkSession\n",
        "import findspark\n",
        "findspark.init()"
      ]
    },
    {
      "cell_type": "code",
      "source": [
        "# Download the Postgres driver that will allow Spark to interact with Postgres.\n",
        "!wget https://jdbc.postgresql.org/download/postgresql-42.2.16.jar"
      ],
      "metadata": {
        "colab": {
          "base_uri": "https://localhost:8080/"
        },
        "id": "vhTTZ-Zvr79X",
        "outputId": "418b3ae2-d0a7-492a-b9ad-1707c1fcae7d"
      },
      "execution_count": null,
      "outputs": [
        {
          "output_type": "stream",
          "name": "stdout",
          "text": [
            "--2022-02-26 15:39:29--  https://jdbc.postgresql.org/download/postgresql-42.2.16.jar\n",
            "Resolving jdbc.postgresql.org (jdbc.postgresql.org)... 72.32.157.228, 2001:4800:3e1:1::228\n",
            "Connecting to jdbc.postgresql.org (jdbc.postgresql.org)|72.32.157.228|:443... connected.\n",
            "HTTP request sent, awaiting response... 200 OK\n",
            "Length: 1002883 (979K) [application/java-archive]\n",
            "Saving to: ‘postgresql-42.2.16.jar’\n",
            "\n",
            "postgresql-42.2.16. 100%[===================>] 979.38K  6.07MB/s    in 0.2s    \n",
            "\n",
            "2022-02-26 15:39:30 (6.07 MB/s) - ‘postgresql-42.2.16.jar’ saved [1002883/1002883]\n",
            "\n"
          ]
        }
      ]
    },
    {
      "cell_type": "code",
      "source": [
        "from pyspark.sql import SparkSession\n",
        "spark = SparkSession.builder.appName(\"M16-Amazon-Challenge\").config(\"spark.driver.extraClassPath\",\"/content/postgresql-42.2.16.jar\").getOrCreate()"
      ],
      "metadata": {
        "id": "GBcBav-xr7_z"
      },
      "execution_count": null,
      "outputs": []
    },
    {
      "cell_type": "code",
      "source": [
        "from pyspark import SparkFiles\n",
        "url = \"https://s3.amazonaws.com/amazon-reviews-pds/tsv/amazon_reviews_us_Office_Products_v1_00.tsv.gz\"\n",
        "spark.sparkContext.addFile(url)\n",
        "df = spark.read.option(\"encoding\", \"UTF-8\").csv(SparkFiles.get(\"amazon_reviews_us_Office_Products_v1_00.tsv.gz\"), sep=\"\\t\", header=True, inferSchema=True)"
      ],
      "metadata": {
        "id": "G8rhTwwDr8Ci"
      },
      "execution_count": null,
      "outputs": []
    },
    {
      "cell_type": "code",
      "source": [
        "from pyspark.sql.functions import to_date\n",
        "# Read in the Review dataset as a DataFrame\n",
        "df.show()"
      ],
      "metadata": {
        "colab": {
          "base_uri": "https://localhost:8080/"
        },
        "id": "_DXYVlper8E4",
        "outputId": "84fe51a8-2aa3-4778-fe8a-727c0bd4ebdf"
      },
      "execution_count": null,
      "outputs": [
        {
          "output_type": "stream",
          "name": "stdout",
          "text": [
            "+-----------+-----------+--------------+----------+--------------+--------------------+----------------+-----------+-------------+-----------+----+-----------------+--------------------+--------------------+-----------+\n",
            "|marketplace|customer_id|     review_id|product_id|product_parent|       product_title|product_category|star_rating|helpful_votes|total_votes|vine|verified_purchase|     review_headline|         review_body|review_date|\n",
            "+-----------+-----------+--------------+----------+--------------+--------------------+----------------+-----------+-------------+-----------+----+-----------------+--------------------+--------------------+-----------+\n",
            "|         US|   43081963|R18RVCKGH1SSI9|B001BM2MAC|     307809868|Scotch Cushion Wr...| Office Products|          5|            0|          0|   N|                Y|          Five Stars|      Great product.| 2015-08-31|\n",
            "|         US|   10951564|R3L4L6LW1PUOFY|B00DZYEXPQ|      75004341|Dust-Off Compress...| Office Products|          5|            0|          1|   N|                Y|Phffffffft, Phfff...|What's to say abo...| 2015-08-31|\n",
            "|         US|   21143145|R2J8AWXWTDX2TF|B00RTMUHDW|     529689027|Amram Tagger Stan...| Office Products|          5|            0|          0|   N|                Y|but I am sure I w...|Haven't used yet,...| 2015-08-31|\n",
            "|         US|   52782374|R1PR37BR7G3M6A|B00D7H8XB6|     868449945|AmazonBasics 12-S...| Office Products|          1|            2|          3|   N|                Y|and the shredder ...|Although this was...| 2015-08-31|\n",
            "|         US|   24045652|R3BDDDZMZBZDPU|B001XCWP34|      33521401|Derwent Colored P...| Office Products|          4|            0|          0|   N|                Y|          Four Stars|Gorgeous colors a...| 2015-08-31|\n",
            "|         US|   21751234| R8T6MO75ND212|B004J2NBCO|     214932869|Quartet Magnetic ...| Office Products|          5|            0|          0|   N|                Y|          Five Stars|Perfect for plann...| 2015-08-31|\n",
            "|         US|    9109358|R2YWMQT2V11XYZ|B00MOPAG8K|     863351797|KITLEX40X2592UNV2...| Office Products|          5|            0|          0|   N|                N|          Five Stars|Gold plated fuser...| 2015-08-31|\n",
            "|         US|    9967215|R1V2HYL6OI9V39|B003AHIK7U|     383470576|Bible Dry Highlig...| Office Products|          5|            6|          6|   N|                Y|Won't bleed throu...|I have used these...| 2015-08-31|\n",
            "|         US|   11234247|R3BLQBKUNXGFS4|B006TKH2RO|     999128878|Parker Ingenuity ...| Office Products|          5|            0|          0|   N|                Y|           Nice pen!|Heavy pen that wr...| 2015-08-31|\n",
            "|         US|   12731488|R17MOWJCAR9Y8Q|B00W61M9K0|     622066861| RFID Card Protector| Office Products|          5|            0|          0|   N|                Y| Credit card sleeves|Not sure if they ...| 2015-08-31|\n",
            "|         US|   49861762|R11EPG1GHOXMGB|B00BXOGI3A|     688569009|The Original Stan...| Office Products|          4|            0|          0|   N|                N|          Four Stars|Great product for...| 2015-08-31|\n",
            "|         US|    1541556|R2797NKTEX5THN|B0018RHWGE|     513803406|Zebra Sparky-1 WK...| Office Products|          5|            0|          0|   N|                Y|Love these highli...|Love these highli...| 2015-08-31|\n",
            "|         US|   10579374|R2RUTMJS50E4WF|B00IA8H2OG|     201212366|E-Z Ink (TM) Comp...| Office Products|          5|            0|          0|   N|                Y|          Five Stars|Received on time,...| 2015-08-31|\n",
            "|         US|   43622307|R1FZYL1HX7O4RM|B007TOIA66|     954138793|Eric 11\" Giant Si...| Office Products|          1|            0|          0|   N|                Y|            One Star|worked about a mo...| 2015-08-31|\n",
            "|         US|   50773856|R22ENT0KU5CHPX|B00EANURCE|      43216076|Brother MFCJ450 W...| Office Products|          5|            0|          0|   N|                Y|Brothers Wireless...|I purchased this ...| 2015-08-31|\n",
            "|         US|   10165223|R2E5M7FWJC9JLE|B00T3Q0EOO|     637096152|Clarity D613 DECT...| Office Products|          5|            0|          0|   N|                Y|          Five Stars|Everything works ...| 2015-08-31|\n",
            "|         US|   14744748|R31BNW3O2Q5J3E|B00WN0N818|     710040412|Permo 50 Feet Whi...| Office Products|          5|            0|          0|   N|                Y|          Five Stars|          Thank you!| 2015-08-31|\n",
            "|         US|   37536631|R1JMQF1OOMNF49|B001GAOTSW|     696023182|Pilot G2 Retracta...| Office Products|          5|            0|          0|   N|                Y|          Five Stars|     Love these pens| 2015-08-31|\n",
            "|         US|     126687| RJH6WQDOA6CZP|B003BNY7PW|     474277918|AT&T DECT 6.0 Acc...| Office Products|          5|            0|          0|   N|                Y|          Five Stars|The product is ev...| 2015-08-31|\n",
            "|         US|   31130095|R2EVL0Z5JVV86X|B00092RJX0|     887474295|Pilot G2 Retracta...| Office Products|          5|            0|          0|   N|                Y|          Five Stars|           Great buy| 2015-08-31|\n",
            "+-----------+-----------+--------------+----------+--------------+--------------------+----------------+-----------+-------------+-----------+----+-----------------+--------------------+--------------------+-----------+\n",
            "only showing top 20 rows\n",
            "\n"
          ]
        }
      ]
    },
    {
      "cell_type": "code",
      "source": [
        "# Create the vine_table. DataFrame\n",
        "vine_df = df.select([\"review_id\", \"star_rating\", \"helpful_votes\", \"total_votes\", \"vine\", \"verified_purchase\"])\n",
        "vine_df.show()"
      ],
      "metadata": {
        "colab": {
          "base_uri": "https://localhost:8080/"
        },
        "id": "XY7EJDvXr8IU",
        "outputId": "32df1ba7-6955-4457-c6e5-fb94cb9a10f3"
      },
      "execution_count": null,
      "outputs": [
        {
          "output_type": "stream",
          "name": "stdout",
          "text": [
            "+--------------+-----------+-------------+-----------+----+-----------------+\n",
            "|     review_id|star_rating|helpful_votes|total_votes|vine|verified_purchase|\n",
            "+--------------+-----------+-------------+-----------+----+-----------------+\n",
            "|R18RVCKGH1SSI9|          5|            0|          0|   N|                Y|\n",
            "|R3L4L6LW1PUOFY|          5|            0|          1|   N|                Y|\n",
            "|R2J8AWXWTDX2TF|          5|            0|          0|   N|                Y|\n",
            "|R1PR37BR7G3M6A|          1|            2|          3|   N|                Y|\n",
            "|R3BDDDZMZBZDPU|          4|            0|          0|   N|                Y|\n",
            "| R8T6MO75ND212|          5|            0|          0|   N|                Y|\n",
            "|R2YWMQT2V11XYZ|          5|            0|          0|   N|                N|\n",
            "|R1V2HYL6OI9V39|          5|            6|          6|   N|                Y|\n",
            "|R3BLQBKUNXGFS4|          5|            0|          0|   N|                Y|\n",
            "|R17MOWJCAR9Y8Q|          5|            0|          0|   N|                Y|\n",
            "|R11EPG1GHOXMGB|          4|            0|          0|   N|                N|\n",
            "|R2797NKTEX5THN|          5|            0|          0|   N|                Y|\n",
            "|R2RUTMJS50E4WF|          5|            0|          0|   N|                Y|\n",
            "|R1FZYL1HX7O4RM|          1|            0|          0|   N|                Y|\n",
            "|R22ENT0KU5CHPX|          5|            0|          0|   N|                Y|\n",
            "|R2E5M7FWJC9JLE|          5|            0|          0|   N|                Y|\n",
            "|R31BNW3O2Q5J3E|          5|            0|          0|   N|                Y|\n",
            "|R1JMQF1OOMNF49|          5|            0|          0|   N|                Y|\n",
            "| RJH6WQDOA6CZP|          5|            0|          0|   N|                Y|\n",
            "|R2EVL0Z5JVV86X|          5|            0|          0|   N|                Y|\n",
            "+--------------+-----------+-------------+-----------+----+-----------------+\n",
            "only showing top 20 rows\n",
            "\n"
          ]
        }
      ]
    },
    {
      "cell_type": "code",
      "source": [
        "# Load in a sql function to use columns\n",
        "from pyspark.sql.functions import col\n",
        "\n",
        "# Filter for only columns with total votes equal to or greater than 20.\n",
        "cleaned_vine_df = vine_df.filter(col(\"total_votes\") >= 20)\n",
        "cleaned_vine_df.show()"
      ],
      "metadata": {
        "colab": {
          "base_uri": "https://localhost:8080/"
        },
        "id": "sA1nkvoEs-1t",
        "outputId": "09a0c2c4-391f-43e7-9b1d-24560c520ac8"
      },
      "execution_count": null,
      "outputs": [
        {
          "output_type": "stream",
          "name": "stdout",
          "text": [
            "+--------------+-----------+-------------+-----------+----+-----------------+\n",
            "|     review_id|star_rating|helpful_votes|total_votes|vine|verified_purchase|\n",
            "+--------------+-----------+-------------+-----------+----+-----------------+\n",
            "|R243UXMMSSZVS6|          2|          254|        254|   N|                Y|\n",
            "|R2P92EHR0S5GBB|          1|          110|        159|   N|                Y|\n",
            "| RN93Z4XPNAANY|          5|           31|         31|   N|                Y|\n",
            "|R1O74T9XO3OPQ4|          5|           38|         38|   N|                Y|\n",
            "|R3DMIHE5BMUT0R|          3|           21|         21|   N|                Y|\n",
            "|R1QWY17NLHQSB5|          5|           36|         36|   N|                Y|\n",
            "|R3LANI678T2YQS|          5|           39|         47|   N|                N|\n",
            "| RLV4XQ49EBYYU|          1|           56|         65|   N|                Y|\n",
            "| RPBPAJKFD0T26|          5|           63|         63|   N|                Y|\n",
            "|R1IHO8C56KBN6C|          1|           61|         64|   N|                Y|\n",
            "|R3HZT0MTHYQBU7|          1|          221|        221|   N|                Y|\n",
            "|R2ETWIKUXWV2FA|          1|           15|         32|   N|                Y|\n",
            "|R1M9644S4471JU|          5|           20|         20|   N|                Y|\n",
            "| R6FPJVAWQ472P|          5|           33|         34|   N|                Y|\n",
            "| RYQ3KOWJLYPWW|          4|           19|         20|   N|                Y|\n",
            "|R2J6UYRU7AX8NS|          5|           23|         24|   N|                Y|\n",
            "|R32Y1KGXWPHEVP|          5|           44|         44|   N|                N|\n",
            "|R3M14RO30UBS32|          2|           22|         30|   N|                Y|\n",
            "|R1FJ1LLYMAIINJ|          2|           27|         28|   N|                Y|\n",
            "| RB32OZDWJ1MXB|          1|          161|        170|   N|                Y|\n",
            "+--------------+-----------+-------------+-----------+----+-----------------+\n",
            "only showing top 20 rows\n",
            "\n"
          ]
        }
      ]
    },
    {
      "cell_type": "code",
      "source": [
        "# Filter the new DataFrame or table created in Step 1 and create a new DataFrame or table to retrieve all the rows where the number of helpful_votes divided by total_votes is equal to or greater than 50%\n",
        "import pyspark.sql.functions as F\n",
        "cleaned_total_df = cleaned_vine_df.withColumn('result_column',((F.col(\"helpful_votes\") / F.col(\"total_votes\"))*100)).filter('result_column>50')\n",
        "cleaned_total_df.show()"
      ],
      "metadata": {
        "colab": {
          "base_uri": "https://localhost:8080/"
        },
        "id": "diFHWKw6s-5J",
        "outputId": "3b206000-4977-42d5-b9a3-a34a6925b145"
      },
      "execution_count": 18,
      "outputs": [
        {
          "output_type": "stream",
          "name": "stdout",
          "text": [
            "+--------------+-----------+-------------+-----------+----+-----------------+-----------------+\n",
            "|     review_id|star_rating|helpful_votes|total_votes|vine|verified_purchase|    result_column|\n",
            "+--------------+-----------+-------------+-----------+----+-----------------+-----------------+\n",
            "|R243UXMMSSZVS6|          2|          254|        254|   N|                Y|            100.0|\n",
            "|R2P92EHR0S5GBB|          1|          110|        159|   N|                Y|69.18238993710692|\n",
            "| RN93Z4XPNAANY|          5|           31|         31|   N|                Y|            100.0|\n",
            "|R1O74T9XO3OPQ4|          5|           38|         38|   N|                Y|            100.0|\n",
            "|R3DMIHE5BMUT0R|          3|           21|         21|   N|                Y|            100.0|\n",
            "|R1QWY17NLHQSB5|          5|           36|         36|   N|                Y|            100.0|\n",
            "|R3LANI678T2YQS|          5|           39|         47|   N|                N|82.97872340425532|\n",
            "| RLV4XQ49EBYYU|          1|           56|         65|   N|                Y|86.15384615384616|\n",
            "| RPBPAJKFD0T26|          5|           63|         63|   N|                Y|            100.0|\n",
            "|R1IHO8C56KBN6C|          1|           61|         64|   N|                Y|          95.3125|\n",
            "|R3HZT0MTHYQBU7|          1|          221|        221|   N|                Y|            100.0|\n",
            "|R1M9644S4471JU|          5|           20|         20|   N|                Y|            100.0|\n",
            "| R6FPJVAWQ472P|          5|           33|         34|   N|                Y|97.05882352941177|\n",
            "| RYQ3KOWJLYPWW|          4|           19|         20|   N|                Y|             95.0|\n",
            "|R2J6UYRU7AX8NS|          5|           23|         24|   N|                Y|95.83333333333334|\n",
            "|R32Y1KGXWPHEVP|          5|           44|         44|   N|                N|            100.0|\n",
            "|R3M14RO30UBS32|          2|           22|         30|   N|                Y|73.33333333333333|\n",
            "|R1FJ1LLYMAIINJ|          2|           27|         28|   N|                Y|96.42857142857143|\n",
            "| RB32OZDWJ1MXB|          1|          161|        170|   N|                Y|94.70588235294117|\n",
            "|R1O5FVFCO6MEWX|          1|           41|         42|   N|                Y|97.61904761904762|\n",
            "+--------------+-----------+-------------+-----------+----+-----------------+-----------------+\n",
            "only showing top 20 rows\n",
            "\n"
          ]
        }
      ]
    },
    {
      "cell_type": "code",
      "source": [
        "# Filter the DataFrame or table created in Step 2, and create a new DataFrame or table that retrieves all the rows where a review was written as part of the Vine program (paid), vine == 'Y'.\n",
        "vine_paid_df = cleaned_total_df.filter(col(\"vine\") == \"Y\")\n",
        "vine_paid_df.show()\n"
      ],
      "metadata": {
        "colab": {
          "base_uri": "https://localhost:8080/"
        },
        "id": "zdSAbXzH2oAv",
        "outputId": "03152a3c-4791-4b06-904b-a2303e431e7f"
      },
      "execution_count": 19,
      "outputs": [
        {
          "output_type": "stream",
          "name": "stdout",
          "text": [
            "+--------------+-----------+-------------+-----------+----+-----------------+-----------------+\n",
            "|     review_id|star_rating|helpful_votes|total_votes|vine|verified_purchase|    result_column|\n",
            "+--------------+-----------+-------------+-----------+----+-----------------+-----------------+\n",
            "|R3JIGR122X50ZV|          5|         2280|       2314|   Y|                N|98.53068280034573|\n",
            "|R3KV8P8WLD2KKC|          5|          263|        286|   Y|                N|91.95804195804196|\n",
            "|R2LFY2ZPJ3J7RH|          4|           36|         38|   Y|                N|94.73684210526315|\n",
            "|R3P01OXMA0U0CA|          5|          114|        117|   Y|                N|97.43589743589743|\n",
            "|R2SCMXBD9OQP8Z|          2|           22|         26|   Y|                N|84.61538461538461|\n",
            "|R2FGS9ECOK5IQN|          5|           22|         23|   Y|                N|95.65217391304348|\n",
            "| R1V9CO41XS6QY|          2|           56|         58|   Y|                N|96.55172413793103|\n",
            "|R1LEP1JGXRY2YT|          2|           18|         20|   Y|                N|             90.0|\n",
            "|R1ZWQJ3ZBSIZ1K|          4|           19|         21|   Y|                Y|90.47619047619048|\n",
            "| RX1G4FUE5HZGN|          3|           52|         58|   Y|                N|89.65517241379311|\n",
            "|R2V4NC4FH8IF1Y|          3|           58|         63|   Y|                N|92.06349206349206|\n",
            "|R1F1PGV3MEL818|          5|          142|        148|   Y|                N|95.94594594594594|\n",
            "| RFLM1DZ2O0ZE3|          4|           39|         39|   Y|                N|            100.0|\n",
            "|R2BYBP0R21WYYC|          5|           30|         33|   Y|                N| 90.9090909090909|\n",
            "|R28T0ZQLIYREBI|          5|           45|         47|   Y|                N|95.74468085106383|\n",
            "|R1EEZAMB8BAB4I|          5|           45|         49|   Y|                N|91.83673469387756|\n",
            "|R1MT9QOVCW2NSC|          5|           21|         24|   Y|                N|             87.5|\n",
            "| R3W9PAL4OVHKD|          5|           35|         41|   Y|                N|85.36585365853658|\n",
            "| R1NMLNZD7JKLY|          5|           40|         44|   Y|                N| 90.9090909090909|\n",
            "| RZ2TREG2ME3K7|          5|           26|         28|   Y|                N|92.85714285714286|\n",
            "+--------------+-----------+-------------+-----------+----+-----------------+-----------------+\n",
            "only showing top 20 rows\n",
            "\n"
          ]
        }
      ]
    },
    {
      "cell_type": "code",
      "source": [
        "# retrieve all the rows where the review was not part of the Vine program (unpaid), vine == 'N'.\n",
        "vine_unpaid_df = cleaned_total_df.filter(col(\"vine\") == \"N\")\n",
        "vine_unpaid_df.show()"
      ],
      "metadata": {
        "colab": {
          "base_uri": "https://localhost:8080/"
        },
        "id": "apwY4YxR3wER",
        "outputId": "1f09bfc0-8232-4f1e-c94c-c9501d8c5256"
      },
      "execution_count": 21,
      "outputs": [
        {
          "output_type": "stream",
          "name": "stdout",
          "text": [
            "+--------------+-----------+-------------+-----------+----+-----------------+-----------------+\n",
            "|     review_id|star_rating|helpful_votes|total_votes|vine|verified_purchase|    result_column|\n",
            "+--------------+-----------+-------------+-----------+----+-----------------+-----------------+\n",
            "|R243UXMMSSZVS6|          2|          254|        254|   N|                Y|            100.0|\n",
            "|R2P92EHR0S5GBB|          1|          110|        159|   N|                Y|69.18238993710692|\n",
            "| RN93Z4XPNAANY|          5|           31|         31|   N|                Y|            100.0|\n",
            "|R1O74T9XO3OPQ4|          5|           38|         38|   N|                Y|            100.0|\n",
            "|R3DMIHE5BMUT0R|          3|           21|         21|   N|                Y|            100.0|\n",
            "|R1QWY17NLHQSB5|          5|           36|         36|   N|                Y|            100.0|\n",
            "|R3LANI678T2YQS|          5|           39|         47|   N|                N|82.97872340425532|\n",
            "| RLV4XQ49EBYYU|          1|           56|         65|   N|                Y|86.15384615384616|\n",
            "| RPBPAJKFD0T26|          5|           63|         63|   N|                Y|            100.0|\n",
            "|R1IHO8C56KBN6C|          1|           61|         64|   N|                Y|          95.3125|\n",
            "|R3HZT0MTHYQBU7|          1|          221|        221|   N|                Y|            100.0|\n",
            "|R1M9644S4471JU|          5|           20|         20|   N|                Y|            100.0|\n",
            "| R6FPJVAWQ472P|          5|           33|         34|   N|                Y|97.05882352941177|\n",
            "| RYQ3KOWJLYPWW|          4|           19|         20|   N|                Y|             95.0|\n",
            "|R2J6UYRU7AX8NS|          5|           23|         24|   N|                Y|95.83333333333334|\n",
            "|R32Y1KGXWPHEVP|          5|           44|         44|   N|                N|            100.0|\n",
            "|R3M14RO30UBS32|          2|           22|         30|   N|                Y|73.33333333333333|\n",
            "|R1FJ1LLYMAIINJ|          2|           27|         28|   N|                Y|96.42857142857143|\n",
            "| RB32OZDWJ1MXB|          1|          161|        170|   N|                Y|94.70588235294117|\n",
            "|R1O5FVFCO6MEWX|          1|           41|         42|   N|                Y|97.61904761904762|\n",
            "+--------------+-----------+-------------+-----------+----+-----------------+-----------------+\n",
            "only showing top 20 rows\n",
            "\n"
          ]
        }
      ]
    },
    {
      "cell_type": "code",
      "source": [
        "# Determine the total number of reviews, the number of 5-star reviews, and the percentage of 5-star reviews for the two types of review (paid)\n",
        "total_review_paid = vine_paid_df.select(\"vine\").count()\n",
        "total_review_paid"
      ],
      "metadata": {
        "colab": {
          "base_uri": "https://localhost:8080/"
        },
        "id": "p6MWoapj4S77",
        "outputId": "e550fed1-0f86-42d6-cf63-daf45f36b58a"
      },
      "execution_count": 27,
      "outputs": [
        {
          "output_type": "execute_result",
          "data": {
            "text/plain": [
              "969"
            ]
          },
          "metadata": {},
          "execution_count": 27
        }
      ]
    },
    {
      "cell_type": "code",
      "source": [
        "five_star_paid = vine_paid_df.filter(\"star_rating == 5\").count()\n",
        "five_star_paid"
      ],
      "metadata": {
        "colab": {
          "base_uri": "https://localhost:8080/"
        },
        "id": "IMDn0NtB4S_d",
        "outputId": "4a46f19a-2fdc-46b7-f073-1ec55b4cfac9"
      },
      "execution_count": 26,
      "outputs": [
        {
          "output_type": "execute_result",
          "data": {
            "text/plain": [
              "430"
            ]
          },
          "metadata": {},
          "execution_count": 26
        }
      ]
    },
    {
      "cell_type": "code",
      "source": [
        "percent_five_star_paid = (five_star_paid / total_review_paid) * 100\n",
        "percent_five_star_paid\n"
      ],
      "metadata": {
        "colab": {
          "base_uri": "https://localhost:8080/"
        },
        "id": "hBuQaOCk3wiX",
        "outputId": "f64281f4-e820-46d1-9123-45709f4dbf95"
      },
      "execution_count": 28,
      "outputs": [
        {
          "output_type": "execute_result",
          "data": {
            "text/plain": [
              "44.375644994840044"
            ]
          },
          "metadata": {},
          "execution_count": 28
        }
      ]
    },
    {
      "cell_type": "code",
      "source": [
        "total_review_unpaid = vine_unpaid_df.select(\"vine\").count()\n",
        "total_review_unpaid"
      ],
      "metadata": {
        "colab": {
          "base_uri": "https://localhost:8080/"
        },
        "id": "FYnwLbnF8LLf",
        "outputId": "f65b193e-93f4-4c66-86db-15eba4b8881c"
      },
      "execution_count": 29,
      "outputs": [
        {
          "output_type": "execute_result",
          "data": {
            "text/plain": [
              "43608"
            ]
          },
          "metadata": {},
          "execution_count": 29
        }
      ]
    },
    {
      "cell_type": "code",
      "source": [
        "five_star_unpaid = vine_unpaid_df.filter(\"star_rating == 5\").count()\n",
        "five_star_unpaid"
      ],
      "metadata": {
        "colab": {
          "base_uri": "https://localhost:8080/"
        },
        "id": "QMOXflGM8LNi",
        "outputId": "723cca5e-c8b0-4f0f-a070-73fb992d3c84"
      },
      "execution_count": 30,
      "outputs": [
        {
          "output_type": "execute_result",
          "data": {
            "text/plain": [
              "19211"
            ]
          },
          "metadata": {},
          "execution_count": 30
        }
      ]
    },
    {
      "cell_type": "code",
      "source": [
        "percent_five_star_unpaid = (five_star_unpaid / total_review_unpaid) * 100\n",
        "percent_five_star_unpaid"
      ],
      "metadata": {
        "colab": {
          "base_uri": "https://localhost:8080/"
        },
        "id": "RUtd2vFF8LRJ",
        "outputId": "b079b03c-6ebf-49c4-d0c1-17ef0e616c14"
      },
      "execution_count": 31,
      "outputs": [
        {
          "output_type": "execute_result",
          "data": {
            "text/plain": [
              "44.05384333149881"
            ]
          },
          "metadata": {},
          "execution_count": 31
        }
      ]
    }
  ]
}